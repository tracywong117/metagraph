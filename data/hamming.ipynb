{
 "cells": [
  {
   "cell_type": "code",
   "execution_count": 8,
   "metadata": {},
   "outputs": [
    {
     "name": "stdout",
     "output_type": "stream",
     "text": [
      "[4 1]\n"
     ]
    }
   ],
   "source": [
    "import numpy as np\n",
    "\n",
    "def pair_hamming_distances(arr1, arr2):\n",
    "    \"\"\"\n",
    "    Compute the Hamming distance between two sets of uint8 arrays.\n",
    "\n",
    "    Parameters:\n",
    "    arr1 (ndarray): Shape (num_bit_vectors, dimension_bit_vector)\n",
    "    arr2 (ndarray): Shape (num_bit_vectors, dimension_bit_vector)\n",
    "\n",
    "    Returns:\n",
    "    ndarray: Shape (num_bit_vectors,) - the Hamming distances between corresponding vectors in arr1 and arr2.\n",
    "    \"\"\"\n",
    "    # Step 1: XOR the two arrays\n",
    "    xor_result = np.bitwise_xor(arr1, arr2)\n",
    "\n",
    "    # Step 2: Count the number of differing bits for each element\n",
    "    # Use `bin(x).count('1')` to count the number of 1s in the binary representation\n",
    "    hamming_distance = np.vectorize(lambda x: bin(x).count('1'))(xor_result)\n",
    "\n",
    "    # Step 3: Sum all the bit differences\n",
    "    total_hamming_distance = np.sum(hamming_distance, axis=1)\n",
    "\n",
    "    return total_hamming_distance\n",
    "\n",
    "# Example usage\n",
    "arr1 = np.array([[0, 1, 0, 1], [1, 0, 1, 0]], dtype=np.uint8) # 32-bit vectors\n",
    "arr2 = np.array([[0, 6, 1, 1], [1, 0, 1, 1]], dtype=np.uint8)\n",
    "print(pair_hamming_distances(arr1, arr2))  # Expected output: [2, 1]"
   ]
  },
  {
   "cell_type": "code",
   "execution_count": 9,
   "metadata": {},
   "outputs": [
    {
     "ename": "ValueError",
     "evalue": "cannot reshape array of size 512 into shape (2,64)",
     "output_type": "error",
     "traceback": [
      "\u001b[0;31m---------------------------------------------------------------------------\u001b[0m",
      "\u001b[0;31mValueError\u001b[0m                                Traceback (most recent call last)",
      "Cell \u001b[0;32mIn[9], line 21\u001b[0m\n\u001b[1;32m     19\u001b[0m point \u001b[38;5;241m=\u001b[39m np\u001b[38;5;241m.\u001b[39marray([\u001b[38;5;241m0\u001b[39m, \u001b[38;5;241m1\u001b[39m, \u001b[38;5;241m0\u001b[39m, \u001b[38;5;241m1\u001b[39m], dtype\u001b[38;5;241m=\u001b[39mnp\u001b[38;5;241m.\u001b[39muint64)\n\u001b[1;32m     20\u001b[0m lst_binary \u001b[38;5;241m=\u001b[39m np\u001b[38;5;241m.\u001b[39marray([[\u001b[38;5;241m0\u001b[39m, \u001b[38;5;241m6\u001b[39m, \u001b[38;5;241m1\u001b[39m, \u001b[38;5;241m1\u001b[39m], [\u001b[38;5;241m1\u001b[39m, \u001b[38;5;241m0\u001b[39m, \u001b[38;5;241m1\u001b[39m, \u001b[38;5;241m1\u001b[39m]], dtype\u001b[38;5;241m=\u001b[39mnp\u001b[38;5;241m.\u001b[39muint64)\n\u001b[0;32m---> 21\u001b[0m \u001b[38;5;28mprint\u001b[39m(\u001b[43mhamming_distances_vectorized\u001b[49m\u001b[43m(\u001b[49m\u001b[43mpoint\u001b[49m\u001b[43m,\u001b[49m\u001b[43m \u001b[49m\u001b[43mlst_binary\u001b[49m\u001b[43m)\u001b[49m)  \u001b[38;5;66;03m# Expected output: [2, 1]\u001b[39;00m\n",
      "Cell \u001b[0;32mIn[9], line 13\u001b[0m, in \u001b[0;36mhamming_distances_vectorized\u001b[0;34m(point, lst_binary)\u001b[0m\n\u001b[1;32m     10\u001b[0m xor_bytes \u001b[38;5;241m=\u001b[39m xor_result\u001b[38;5;241m.\u001b[39mview(np\u001b[38;5;241m.\u001b[39muint8)  \u001b[38;5;66;03m# Interpret each uint64 as 8 uint8 values\u001b[39;00m\n\u001b[1;32m     12\u001b[0m \u001b[38;5;66;03m# Unpack bits and count the number of 1s for each uint64\u001b[39;00m\n\u001b[0;32m---> 13\u001b[0m unpacked_bits \u001b[38;5;241m=\u001b[39m \u001b[43mnp\u001b[49m\u001b[38;5;241;43m.\u001b[39;49m\u001b[43munpackbits\u001b[49m\u001b[43m(\u001b[49m\u001b[43mxor_bytes\u001b[49m\u001b[43m,\u001b[49m\u001b[43m \u001b[49m\u001b[43maxis\u001b[49m\u001b[38;5;241;43m=\u001b[39;49m\u001b[38;5;241;43m0\u001b[39;49m\u001b[43m)\u001b[49m\u001b[38;5;241;43m.\u001b[39;49m\u001b[43mreshape\u001b[49m\u001b[43m(\u001b[49m\u001b[38;5;28;43mlen\u001b[39;49m\u001b[43m(\u001b[49m\u001b[43mlst_binary\u001b[49m\u001b[43m)\u001b[49m\u001b[43m,\u001b[49m\u001b[43m \u001b[49m\u001b[38;5;241;43m64\u001b[39;49m\u001b[43m)\u001b[49m\n\u001b[1;32m     14\u001b[0m distances \u001b[38;5;241m=\u001b[39m unpacked_bits\u001b[38;5;241m.\u001b[39msum(axis\u001b[38;5;241m=\u001b[39m\u001b[38;5;241m1\u001b[39m)\n\u001b[1;32m     16\u001b[0m \u001b[38;5;28;01mreturn\u001b[39;00m distances\n",
      "\u001b[0;31mValueError\u001b[0m: cannot reshape array of size 512 into shape (2,64)"
     ]
    }
   ],
   "source": [
    "def hamming_distances_vectorized(point, lst_binary):\n",
    "    \"\"\"\n",
    "    Compute the Hamming distances between a point and a list of binary codes.\n",
    "    \"\"\"\n",
    "    \n",
    "    # XOR the point with the list\n",
    "    xor_result = point ^ lst_binary  # XOR result is still uint64\n",
    "    \n",
    "    # Convert uint64 to uint8 view (8 bytes per uint64)\n",
    "    xor_bytes = xor_result.view(np.uint8)  # Interpret each uint64 as 8 uint8 values\n",
    "    \n",
    "    # Unpack bits and count the number of 1s for each uint64\n",
    "    unpacked_bits = np.unpackbits(xor_bytes, axis=0).reshape(len(lst_binary), 64)\n",
    "    distances = unpacked_bits.sum(axis=1)\n",
    "    \n",
    "    return distances\n",
    "\n",
    "# Example usage\n",
    "point = np.array([0, 1, 0, 1], dtype=np.uint64)\n",
    "lst_binary = np.array([[0, 6, 1, 1], [1, 0, 1, 1]], dtype=np.uint64)\n",
    "print(hamming_distances_vectorized(point, lst_binary))  # Expected output: [2, 1]"
   ]
  },
  {
   "cell_type": "code",
   "execution_count": null,
   "metadata": {},
   "outputs": [],
   "source": []
  }
 ],
 "metadata": {
  "kernelspec": {
   "display_name": "mgdb-py38",
   "language": "python",
   "name": "python3"
  },
  "language_info": {
   "codemirror_mode": {
    "name": "ipython",
    "version": 3
   },
   "file_extension": ".py",
   "mimetype": "text/x-python",
   "name": "python",
   "nbconvert_exporter": "python",
   "pygments_lexer": "ipython3",
   "version": "3.8.20"
  }
 },
 "nbformat": 4,
 "nbformat_minor": 2
}
