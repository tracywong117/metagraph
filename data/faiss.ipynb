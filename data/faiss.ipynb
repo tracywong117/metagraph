{
 "cells": [
  {
   "cell_type": "code",
   "execution_count": 16,
   "metadata": {},
   "outputs": [
    {
     "name": "stdout",
     "output_type": "stream",
     "text": [
      "(20000000, 64)\n",
      "(20000000, 8)\n",
      "Time to create index: 0.004430532455444336\n",
      "Time to add vectors: 0.0381777286529541\n",
      "(1, 64)\n",
      "Time to generate query vector: 0.07126069068908691\n",
      "Nearest neighbors: [[19240477 14689759 19053508  5805317  5010410]]\n",
      "Hamming distances: [[11 12 12 12 12]]\n"
     ]
    }
   ],
   "source": [
    "import faiss\n",
    "import numpy as np\n",
    "import time\n",
    "\n",
    "# Number of vectors and dimensions (binary vector size)\n",
    "n_vectors = 20000000\n",
    "d = 64  # Binary vector size in bits\n",
    "\n",
    "# Create random binary vectors\n",
    "xb = np.random.randint(2, size=(n_vectors, d)).astype('uint8')\n",
    "print(xb.shape)\n",
    "\n",
    "# Convert to packed binary format (FAISS stores binary vectors as uint8 arrays)\n",
    "xb_packed = np.packbits(xb, axis=1)\n",
    "print(xb_packed.shape)\n",
    "\n",
    "\n",
    "# Create the FAISS binary flat index\n",
    "start_time = time.time()\n",
    "index = faiss.IndexBinaryFlat(d)\n",
    "print(\"Time to create index:\", time.time() - start_time)\n",
    "\n",
    "# Add the binary vectors to the index\n",
    "start_time = time.time()\n",
    "index.add(xb_packed)\n",
    "print(\"Time to add vectors:\", time.time() - start_time)\n",
    "\n",
    "# Query vector\n",
    "xq = np.random.randint(2, size=(1, d)).astype('uint8')\n",
    "print(xq.shape)\n",
    "xq_packed = np.packbits(xq, axis=1)\n",
    "\n",
    "# Perform a search for the top 5 nearest neighbors\n",
    "start_time = time.time()\n",
    "k = 5\n",
    "distances, indices = index.search(xq_packed, k)\n",
    "print(\"Time to generate query vector:\", time.time() - start_time)\n",
    "\n",
    "print(\"Nearest neighbors:\", indices)\n",
    "print(\"Hamming distances:\", distances)"
   ]
  },
  {
   "cell_type": "code",
   "execution_count": null,
   "metadata": {},
   "outputs": [],
   "source": [
    "from sklearn_extra.cluster import KMedoids\n",
    "from sklearn.metrics import pairwise_distances\n",
    "import numpy as np\n",
    "\n",
    "# Simulate binary dataset (60M points, 64 bits)\n",
    "num_points = 60000000\n",
    "num_features = 64\n",
    "binary_data = np.random.randint(2, size=(num_points, num_features), dtype=np.uint8)\n",
    "\n",
    "# Use K-medoids with Hamming distance\n",
    "# Reduce the dataset size for demonstration purposes\n",
    "sample_data = binary_data[:100000]  # Use a smaller sample to fit into memory\n",
    "kmedoids = KMedoids(n_clusters=20000, metric=\"hamming\", random_state=42)\n",
    "kmedoids.fit(sample_data)\n",
    "\n",
    "print(\"Cluster labels:\", kmedoids.labels_)\n",
    "print(\"Cluster medoids:\", kmedoids.cluster_centers_)"
   ]
  },
  {
   "cell_type": "code",
   "execution_count": 3,
   "metadata": {},
   "outputs": [
    {
     "name": "stdout",
     "output_type": "stream",
     "text": [
      "Number of indexed vectors: 60000000\n"
     ]
    },
    {
     "name": "stderr",
     "output_type": "stream",
     "text": [
      "  0%|          | 91/60000000 [00:13<2451:46:03,  6.80it/s]\n"
     ]
    },
    {
     "ename": "KeyboardInterrupt",
     "evalue": "",
     "output_type": "error",
     "traceback": [
      "\u001b[0;31m---------------------------------------------------------------------------\u001b[0m",
      "\u001b[0;31mKeyboardInterrupt\u001b[0m                         Traceback (most recent call last)",
      "\u001b[0;32m/tmp/ipykernel_1764401/4100374616.py\u001b[0m in \u001b[0;36m?\u001b[0;34m()\u001b[0m\n\u001b[1;32m     22\u001b[0m \u001b[0;32mimport\u001b[0m \u001b[0mfaiss\u001b[0m\u001b[0;34m\u001b[0m\u001b[0;34m\u001b[0m\u001b[0m\n\u001b[0;32m---> 23\u001b[0;31m \u001b[0;32mimport\u001b[0m \u001b[0mnumpy\u001b[0m \u001b[0;32mas\u001b[0m \u001b[0mnp\u001b[0m\u001b[0;34m\u001b[0m\u001b[0;34m\u001b[0m\u001b[0m\n\u001b[0m\u001b[1;32m     24\u001b[0m \u001b[0;32mfrom\u001b[0m \u001b[0mtqdm\u001b[0m \u001b[0;32mimport\u001b[0m \u001b[0mtqdm\u001b[0m\u001b[0;34m\u001b[0m\u001b[0;34m\u001b[0m\u001b[0m\n\u001b[1;32m     25\u001b[0m \u001b[0;34m\u001b[0m\u001b[0m\n\u001b[1;32m     26\u001b[0m \u001b[0;31m# Simulate binary dataset\u001b[0m\u001b[0;34m\u001b[0m\u001b[0;34m\u001b[0m\u001b[0;34m\u001b[0m\u001b[0m\n",
      "\u001b[0;32m~/anaconda3/envs/mgdb-py38/lib/python3.8/site-packages/faiss/__init__.py\u001b[0m in \u001b[0;36m?\u001b[0;34m(self, x, k)\u001b[0m\n\u001b[1;32m    592\u001b[0m         \u001b[0;32massert\u001b[0m \u001b[0md\u001b[0m \u001b[0;34m*\u001b[0m \u001b[0;36m8\u001b[0m \u001b[0;34m==\u001b[0m \u001b[0mself\u001b[0m\u001b[0;34m.\u001b[0m\u001b[0md\u001b[0m\u001b[0;34m\u001b[0m\u001b[0;34m\u001b[0m\u001b[0m\n\u001b[1;32m    593\u001b[0m         \u001b[0;32massert\u001b[0m \u001b[0mk\u001b[0m \u001b[0;34m>\u001b[0m \u001b[0;36m0\u001b[0m\u001b[0;34m\u001b[0m\u001b[0;34m\u001b[0m\u001b[0m\n\u001b[1;32m    594\u001b[0m         \u001b[0mdistances\u001b[0m \u001b[0;34m=\u001b[0m \u001b[0mnp\u001b[0m\u001b[0;34m.\u001b[0m\u001b[0mempty\u001b[0m\u001b[0;34m(\u001b[0m\u001b[0;34m(\u001b[0m\u001b[0mn\u001b[0m\u001b[0;34m,\u001b[0m \u001b[0mk\u001b[0m\u001b[0;34m)\u001b[0m\u001b[0;34m,\u001b[0m \u001b[0mdtype\u001b[0m\u001b[0;34m=\u001b[0m\u001b[0mnp\u001b[0m\u001b[0;34m.\u001b[0m\u001b[0mint32\u001b[0m\u001b[0;34m)\u001b[0m\u001b[0;34m\u001b[0m\u001b[0;34m\u001b[0m\u001b[0m\n\u001b[1;32m    595\u001b[0m         \u001b[0mlabels\u001b[0m \u001b[0;34m=\u001b[0m \u001b[0mnp\u001b[0m\u001b[0;34m.\u001b[0m\u001b[0mempty\u001b[0m\u001b[0;34m(\u001b[0m\u001b[0;34m(\u001b[0m\u001b[0mn\u001b[0m\u001b[0;34m,\u001b[0m \u001b[0mk\u001b[0m\u001b[0;34m)\u001b[0m\u001b[0;34m,\u001b[0m \u001b[0mdtype\u001b[0m\u001b[0;34m=\u001b[0m\u001b[0mnp\u001b[0m\u001b[0;34m.\u001b[0m\u001b[0mint64\u001b[0m\u001b[0;34m)\u001b[0m\u001b[0;34m\u001b[0m\u001b[0;34m\u001b[0m\u001b[0m\n\u001b[0;32m--> 596\u001b[0;31m         self.search_c(n, swig_ptr(x),\n\u001b[0m\u001b[1;32m    597\u001b[0m                       \u001b[0mk\u001b[0m\u001b[0;34m,\u001b[0m \u001b[0mswig_ptr\u001b[0m\u001b[0;34m(\u001b[0m\u001b[0mdistances\u001b[0m\u001b[0;34m)\u001b[0m\u001b[0;34m,\u001b[0m\u001b[0;34m\u001b[0m\u001b[0;34m\u001b[0m\u001b[0m\n\u001b[1;32m    598\u001b[0m                       swig_ptr(labels))\n\u001b[1;32m    599\u001b[0m         \u001b[0;32mreturn\u001b[0m \u001b[0mdistances\u001b[0m\u001b[0;34m,\u001b[0m \u001b[0mlabels\u001b[0m\u001b[0;34m\u001b[0m\u001b[0;34m\u001b[0m\u001b[0m\n",
      "\u001b[0;32m~/anaconda3/envs/mgdb-py38/lib/python3.8/site-packages/faiss/swigfaiss.py\u001b[0m in \u001b[0;36m?\u001b[0;34m(self, n, x, k, distances, labels)\u001b[0m\n\u001b[1;32m   7434\u001b[0m     \u001b[0;32mdef\u001b[0m \u001b[0msearch\u001b[0m\u001b[0;34m(\u001b[0m\u001b[0mself\u001b[0m\u001b[0;34m,\u001b[0m \u001b[0mn\u001b[0m\u001b[0;34m,\u001b[0m \u001b[0mx\u001b[0m\u001b[0;34m,\u001b[0m \u001b[0mk\u001b[0m\u001b[0;34m,\u001b[0m \u001b[0mdistances\u001b[0m\u001b[0;34m,\u001b[0m \u001b[0mlabels\u001b[0m\u001b[0;34m)\u001b[0m\u001b[0;34m:\u001b[0m\u001b[0;34m\u001b[0m\u001b[0;34m\u001b[0m\u001b[0m\n\u001b[0;32m-> 7435\u001b[0;31m         \u001b[0;32mreturn\u001b[0m \u001b[0m_swigfaiss\u001b[0m\u001b[0;34m.\u001b[0m\u001b[0mIndexBinaryFlat_search\u001b[0m\u001b[0;34m(\u001b[0m\u001b[0mself\u001b[0m\u001b[0;34m,\u001b[0m \u001b[0mn\u001b[0m\u001b[0;34m,\u001b[0m \u001b[0mx\u001b[0m\u001b[0;34m,\u001b[0m \u001b[0mk\u001b[0m\u001b[0;34m,\u001b[0m \u001b[0mdistances\u001b[0m\u001b[0;34m,\u001b[0m \u001b[0mlabels\u001b[0m\u001b[0;34m)\u001b[0m\u001b[0;34m\u001b[0m\u001b[0;34m\u001b[0m\u001b[0m\n\u001b[0m",
      "\u001b[0;31mKeyboardInterrupt\u001b[0m: "
     ]
    }
   ],
   "source": [
    "import faiss\n",
    "import numpy as np\n",
    "from tqdm import tqdm\n",
    "\n",
    "# Simulate binary dataset\n",
    "binary_data = np.random.randint(2, size=(60000000, 64), dtype=np.uint8)\n",
    "\n",
    "# Convert binary data to uint8 format for FAISS\n",
    "binary_data_packed = np.packbits(binary_data, axis=1)\n",
    "\n",
    "# Create a FAISS index for Hamming distance\n",
    "index = faiss.IndexBinaryFlat(64)  # 64-bit binary vectors\n",
    "index.add(binary_data_packed)\n",
    "print(\"Number of indexed vectors:\", index.ntotal)\n",
    "\n",
    "# Perform clustering using approximate nearest neighbors\n",
    "n_clusters = 20000\n",
    "cluster_centers = binary_data_packed[:n_clusters]  # Use first N points as initial centers\n",
    "assignments = []\n",
    "\n",
    "# for vector in binary_data_packed:\n",
    "for vector in tqdm(binary_data_packed, total=len(binary_data_packed)):\n",
    "    _, nearest_center = index.search(np.expand_dims(vector, axis=0), k=1)\n",
    "    assignments.append(nearest_center[0][0])\n",
    "\n",
    "print(\"Cluster assignments:\", assignments)"
   ]
  }
 ],
 "metadata": {
  "kernelspec": {
   "display_name": "mgdb-py38",
   "language": "python",
   "name": "python3"
  },
  "language_info": {
   "codemirror_mode": {
    "name": "ipython",
    "version": 3
   },
   "file_extension": ".py",
   "mimetype": "text/x-python",
   "name": "python",
   "nbconvert_exporter": "python",
   "pygments_lexer": "ipython3",
   "version": "3.8.20"
  }
 },
 "nbformat": 4,
 "nbformat_minor": 2
}
